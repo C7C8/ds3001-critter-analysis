{
 "cells": [
  {
   "cell_type": "markdown",
   "source": [
    "# Cabinet Member Term Length & Approval vs. Spending\n",
    "\n",
    "The goal here is to determine if there's any relationship between the vote confirmation ratio,\n",
    "the member's term length, and their spending."
   ],
   "metadata": {
    "collapsed": false,
    "pycharm": {
     "name": "#%% md\n"
    }
   }
  },
  {
   "cell_type": "markdown",
   "source": [
    "## Term Length vs. Approval\n",
    "\n",
    "\n",
    "Data pre-processing:"
   ],
   "metadata": {
    "collapsed": false,
    "pycharm": {
     "name": "#%% md\n"
    }
   }
  },
  {
   "cell_type": "code",
   "execution_count": 15,
   "outputs": [],
   "source": [
    "import pandas as pd\n",
    "import warnings\n",
    "\n",
    "warnings.filterwarnings(\"ignore\")\n",
    "\n",
    "df = pd.read_csv(\"../data/csv/cabinet_member_spending.csv\").rename({\n",
    "        \"Department\": \"department\",\n",
    "        \"President\": \"party\",\n",
    "        \"Votes For\": \"votes_for\",\n",
    "        \"Votes Against\": \"votes_against\",\n",
    "        \"Days\": \"term_length\",\n",
    "        \"Domestic Spending\": \"domestic_spending\",\n",
    "        \"Foreign Spending\": \"foreign_spending\"\n",
    "    }, axis=1)\\\n",
    "    .drop([\"Nominee\"], axis=1)\n",
    "\n",
    "# Correct for voice vote with 95% approval estimation\n",
    "nulls = df.votes_for.isnull() & df.votes_against.isnull()\n",
    "df.votes_for[nulls] = 95\n",
    "df.votes_against[nulls] = 5\n",
    "\n",
    "# Adjust party to 1 vs. -1 scale\n",
    "df.party[df.party != \"Barack Obama\"] = -1\n",
    "df.party[df.party == \"Barack Obama\"] = 1\n",
    "\n",
    "# Add approval ratio\n",
    "df[\"approval\"] = df.votes_for / (df.votes_for + df.votes_against)\n"
   ],
   "metadata": {
    "collapsed": false,
    "pycharm": {
     "name": "#%%\n",
     "is_executing": false
    }
   }
  }
 ],
 "metadata": {
  "kernelspec": {
   "display_name": "Python 3",
   "language": "python",
   "name": "python3"
  },
  "language_info": {
   "codemirror_mode": {
    "name": "ipython",
    "version": 2
   },
   "file_extension": ".py",
   "mimetype": "text/x-python",
   "name": "python",
   "nbconvert_exporter": "python",
   "pygments_lexer": "ipython2",
   "version": "2.7.6"
  },
  "pycharm": {
   "stem_cell": {
    "cell_type": "raw",
    "source": [],
    "metadata": {
     "collapsed": false
    }
   }
  }
 },
 "nbformat": 4,
 "nbformat_minor": 0
}
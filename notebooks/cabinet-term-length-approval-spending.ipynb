{
 "cells": [
  {
   "cell_type": "markdown",
   "source": [
    "# Cabinet Member Term Length & Approval vs. Spending\n",
    "\n",
    "The goal here is to determine if there's any relationship between the vote confirmation ratio,\n",
    "the member's term length, and their spending.\n",
    "\n",
    "## Data pre-processing\n",
    "\n",
    "Throw out unneeded columns, do some renaming to make things easier/pythonic..."
   ],
   "metadata": {
    "collapsed": false,
    "pycharm": {
     "name": "#%% md\n"
    }
   }
  },
  {
   "cell_type": "code",
   "execution_count": 27,
   "outputs": [
    {
     "name": "stdout",
     "text": [
      "Loaded 87 cabinet member entries\n"
     ],
     "output_type": "stream"
    },
    {
     "name": "stderr",
     "text": [
      "<ipython-input-27-589b1efa6ea3>:5: SettingWithCopyWarning: \n",
      "A value is trying to be set on a copy of a slice from a DataFrame\n",
      "\n",
      "See the caveats in the documentation: https://pandas.pydata.org/pandas-docs/stable/user_guide/indexing.html#returning-a-view-versus-a-copy\n",
      "  cabinet[\"Votes For\"][cabinet[\"Vote Type\"] == \"Voice Vote\"] = 95\n",
      "<ipython-input-27-589b1efa6ea3>:6: SettingWithCopyWarning: \n",
      "A value is trying to be set on a copy of a slice from a DataFrame\n",
      "\n",
      "See the caveats in the documentation: https://pandas.pydata.org/pandas-docs/stable/user_guide/indexing.html#returning-a-view-versus-a-copy\n",
      "  cabinet[\"Votes Against\"][cabinet[\"Vote Type\"] == \"Voice Vote\"] = 5\n"
     ],
     "output_type": "stream"
    }
   ],
   "source": [
    "import pandas as pd\n",
    "\n",
    "cabinet = pd.read_csv(\"../data/csv/cabinet.csv\")\n",
    "print(\"Loaded {} cabinet member entries\".format(len(cabinet)))\n",
    "cabinet[\"Votes For\"][cabinet[\"Vote Type\"] == \"Voice Vote\"] = 95\n",
    "cabinet[\"Votes Against\"][cabinet[\"Vote Type\"] == \"Voice Vote\"] = 5\n",
    "\n",
    "cabinet: pd.DataFrame = cabinet.drop(cabinet.columns.difference([\"Party\", \"Position\", \"Confirmed\", \"Votes For\",\n",
    "                                                                 \"Votes Against\"]), axis=1)\\\n",
    "    .rename({\n",
    "        \"Position\": \"position\",\n",
    "        \"Party\": \"party\",\n",
    "        \"Confirmed\": \"date\",\n",
    "        \"Votes For\": \"votes_for\",\n",
    "        \"Votes Against\": \"votes_against\"\n",
    "    }, axis=1)\n",
    "cabinet.date = pd.to_datetime(cabinet.date)\n",
    "cabinet.party = cabinet.party.map({\"Republican\": -1, \"Democrat\": 1})\n",
    "cabinet[\"ratio\"] = cabinet.votes_for / (cabinet.votes_for + cabinet.votes_against)\n"
   ],
   "metadata": {
    "collapsed": false,
    "pycharm": {
     "name": "#%%\n",
     "is_executing": false
    }
   }
  }
 ],
 "metadata": {
  "kernelspec": {
   "display_name": "Python 3",
   "language": "python",
   "name": "python3"
  },
  "language_info": {
   "codemirror_mode": {
    "name": "ipython",
    "version": 2
   },
   "file_extension": ".py",
   "mimetype": "text/x-python",
   "name": "python",
   "nbconvert_exporter": "python",
   "pygments_lexer": "ipython2",
   "version": "2.7.6"
  },
  "pycharm": {
   "stem_cell": {
    "cell_type": "raw",
    "source": [],
    "metadata": {
     "collapsed": false
    }
   }
  }
 },
 "nbformat": 4,
 "nbformat_minor": 0
}
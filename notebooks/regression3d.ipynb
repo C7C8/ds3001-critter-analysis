{
 "cells": [
  {
   "cell_type": "code",
   "execution_count": 1,
   "metadata": {},
   "outputs": [],
   "source": [
    "#train list is [ageEnteringOffice, days]\n",
    "def dfToLabels(df):\n",
    "    trainList = []\n",
    "    answerLabelList = []\n",
    "    for _,row in df.iterrows():\n",
    "        paramsList = []\n",
    "        paramsList.append(row.ageEnteringOffice)\n",
    "        paramsList.append(row.Days)\n",
    "        trainList.append(paramsList)\n",
    "        answerLabelList.append(row.percentAsForeign)\n",
    "    return trainList,answerLabelList"
   ]
  },
  {
   "cell_type": "code",
   "execution_count": 2,
   "metadata": {},
   "outputs": [],
   "source": [
    "def makePlot(reg,trainList,trainAnswers,testLabels,testAnswers,title):\n",
    "    fidelity = 30\n",
    "    dateLinSpace = np.linspace(200,3500,fidelity)\n",
    "    approvalLinSpace = np.linspace(.5,1,fidelity)\n",
    "    ageEnteringOfficeLinSpace = np.linspace(10000,30000,fidelity)\n",
    "    x,y = np.meshgrid(ageEnteringOfficeLinSpace,dateLinSpace)\n",
    "    z = np.zeros((fidelity,fidelity))\n",
    "    for rowIndex in range(len(x)):\n",
    "        for valIndex in range(len(x[rowIndex])):\n",
    "            z[rowIndex][valIndex] = reg.predict([[x[rowIndex][valIndex],y[rowIndex][valIndex]]])\n",
    "\n",
    "    fig = plt.figure()\n",
    "    ax = fig.gca(projection = '3d')\n",
    "    ax.plot_wireframe(x,y,z)\n",
    "    ax.set_xticks(np.arange(5000,30000,5000))\n",
    "    ax.set_xlabel('Age when taking position (Days)')\n",
    "    ax.set_ylabel('Days in position')\n",
    "    ax.scatter([approvalRate[0] for approvalRate in testLabels],\n",
    "               [days[1] for days in testLabels],\n",
    "               testAnswers, c = 'yellow')\n",
    "    ax.scatter([approvalRate[0] for approvalRate in trainList],\n",
    "               [days[1] for days in trainList],\n",
    "               trainAnswers, c = 'purple')\n",
    "    yellow_patch = mpatches.Patch(color='yellow', label='Test Data')\n",
    "    purple_patch = mpatches.Patch(color='purple', label='Training data')\n",
    "    blue_patch = mpatches.Patch(color = 'blue', label = 'Predicted')\n",
    "    plt.legend(handles=[yellow_patch,purple_patch,blue_patch])\n",
    "    plt.title(title)\n",
    "    plt.show()\n",
    "    return reg"
   ]
  },
  {
   "cell_type": "code",
   "execution_count": 3,
   "metadata": {},
   "outputs": [],
   "source": [
    "def trainModel(df, useAll):\n",
    "    trainingDf = df[df.index % 4 != 0]\n",
    "    testDf = df[df.index % 4 == 0]\n",
    "    trainList, trainAnswers = 0,0\n",
    "    testLabels, testAnswer = 0,0\n",
    "    if useAll:\n",
    "        trainList, trainAnswers = dfToAllLabels(trainingDf)\n",
    "        testLabels, testAnswers = dfToAllLabels(testDf)\n",
    "    else:\n",
    "        trainList, trainAnswers = dfToLabels(trainingDf)\n",
    "        testLabels, testAnswers = dfToLabels(testDf)\n",
    "\n",
    "    reg = linear_model.LinearRegression()\n",
    "    reg.fit(trainList,trainAnswers)\n",
    "\n",
    "    prediction = reg.predict(testLabels)\n",
    "    print('Mean squared error = ', mean_squared_error(prediction,testAnswers))\n",
    "    return reg,trainList,trainAnswers,testLabels,testAnswers"
   ]
  },
  {
   "cell_type": "code",
   "execution_count": 4,
   "metadata": {},
   "outputs": [],
   "source": [
    "def dfToAllLabels(df):\n",
    "    trainList = []\n",
    "    answerLabelList = []\n",
    "    for _,row in df.iterrows():\n",
    "        paramsList = []\n",
    "        paramsList.append(row.ageEnteringOffice)\n",
    "        paramsList.append(row.Days)\n",
    "        paramsList.append(row.percentApproval)\n",
    "        trainList.append(paramsList)\n",
    "        answerLabelList.append(row.percentAsForeign)\n",
    "    return trainList,answerLabelList"
   ]
  },
  {
   "cell_type": "code",
   "execution_count": 5,
   "metadata": {},
   "outputs": [],
   "source": [
    "def trainAndPlot(df, useAll, title):\n",
    "    reg,trainList,trainAnswers,testLabels,testAnswers = trainModel(df,useAll)\n",
    "    return makePlot(reg,trainList,trainAnswers,testLabels,testAnswers,title)"
   ]
  },
  {
   "cell_type": "code",
   "execution_count": 6,
   "metadata": {},
   "outputs": [],
   "source": [
    "def buildRow(reg):\n",
    "    row = reg.coef_.tolist()\n",
    "    row.append(reg.intercept_)\n",
    "    return row"
   ]
  },
  {
   "cell_type": "code",
   "execution_count": 7,
   "metadata": {},
   "outputs": [
    {
     "name": "stdout",
     "output_type": "stream",
     "text": [
      "Mean squared error =  0.00046807943789162134\n"
     ]
    },
    {
     "data": {
      "application/vnd.jupyter.widget-view+json": {
       "model_id": "92643821ecb4402db994f898175a3586",
       "version_major": 2,
       "version_minor": 0
      },
      "text/plain": [
       "Canvas(toolbar=Toolbar(toolitems=[('Home', 'Reset original view', 'home', 'home'), ('Back', 'Back to previous …"
      ]
     },
     "metadata": {},
     "output_type": "display_data"
    },
    {
     "name": "stdout",
     "output_type": "stream",
     "text": [
      "Mean squared error =  6.225951975361795e-05\n"
     ]
    },
    {
     "data": {
      "application/vnd.jupyter.widget-view+json": {
       "model_id": "d1bdba3cd7764d00a5479098432c5400",
       "version_major": 2,
       "version_minor": 0
      },
      "text/plain": [
       "Canvas(toolbar=Toolbar(toolitems=[('Home', 'Reset original view', 'home', 'home'), ('Back', 'Back to previous …"
      ]
     },
     "metadata": {},
     "output_type": "display_data"
    },
    {
     "name": "stdout",
     "output_type": "stream",
     "text": [
      "Mean squared error =  0.0001348810419322613\n"
     ]
    },
    {
     "data": {
      "application/vnd.jupyter.widget-view+json": {
       "model_id": "7681cddf7ea647c4b7cd099ca4ec173a",
       "version_major": 2,
       "version_minor": 0
      },
      "text/plain": [
       "Canvas(toolbar=Toolbar(toolitems=[('Home', 'Reset original view', 'home', 'home'), ('Back', 'Back to previous …"
      ]
     },
     "metadata": {},
     "output_type": "display_data"
    },
    {
     "name": "stdout",
     "output_type": "stream",
     "text": [
      "Mean squared error =  0.00015080241628454802\n"
     ]
    },
    {
     "data": {
      "application/vnd.jupyter.widget-view+json": {
       "model_id": "03e29bc3f44043248c2066e177650a1c",
       "version_major": 2,
       "version_minor": 0
      },
      "text/plain": [
       "Canvas(toolbar=Toolbar(toolitems=[('Home', 'Reset original view', 'home', 'home'), ('Back', 'Back to previous …"
      ]
     },
     "metadata": {},
     "output_type": "display_data"
    },
    {
     "name": "stdout",
     "output_type": "stream",
     "text": [
      "Mean squared error =  6.522173914492203e-05\n"
     ]
    },
    {
     "data": {
      "application/vnd.jupyter.widget-view+json": {
       "model_id": "76cf056f4cc1440984b6f1bcd588e813",
       "version_major": 2,
       "version_minor": 0
      },
      "text/plain": [
       "Canvas(toolbar=Toolbar(toolitems=[('Home', 'Reset original view', 'home', 'home'), ('Back', 'Back to previous …"
      ]
     },
     "metadata": {},
     "output_type": "display_data"
    },
    {
     "name": "stdout",
     "output_type": "stream",
     "text": [
      "Using 3 labels, not accounting for party:\n",
      "Mean squared error =  0.0004686892259522336\n",
      "Using 3 labels, Democrats:\n",
      "Mean squared error =  7.361139247525786e-05\n",
      "Using 3 labels, Republicans:\n",
      "Mean squared error =  0.000143152618060532\n",
      "Using 3 labels, Trump Cabinet:\n",
      "Mean squared error =  0.00013719335303291938\n",
      "Using 3 labels, Bush Cabinet:\n",
      "Mean squared error =  6.577002630927354e-05\n"
     ]
    }
   ],
   "source": [
    "import numpy as np \n",
    "import math\n",
    "import pandas as pd\n",
    "import matplotlib.pyplot as plt\n",
    "import matplotlib.patches as mpatches\n",
    "from sklearn import datasets, linear_model\n",
    "from sklearn.metrics import mean_squared_error\n",
    "from mpl_toolkits.mplot3d import axes3d\n",
    "import csv\n",
    "%matplotlib widget\n",
    "plt.rcParams['figure.figsize'] = [8, 8]\n",
    "\n",
    "coeffGrid = []\n",
    "\n",
    "fileName = 'cabinet_member_spending_with_age.csv'\n",
    "df = pd.read_csv(fileName,header=0)\n",
    "percentAsForeign = []\n",
    "percentApproval = []\n",
    "for index, row in df.iterrows():\n",
    "    percentAsForeign.append(row[7]/(row[6] + row[7]))\n",
    "    if  math.isnan(row[3]):\n",
    "        percentApproval.append(.9)\n",
    "    else :\n",
    "        percentApproval.append(row[3]/100)\n",
    "df['percentAsForeign'] = percentAsForeign\n",
    "df['percentApproval'] = percentApproval\n",
    "\n",
    "overallRegression,trainList,trainAnswers,testLabels,testAnswers = trainModel(df,False)\n",
    "makePlot(overallRegression,trainList,trainAnswers,testLabels,testAnswers,\n",
    "         \"Regression based on days in office and \\napproval rate\")\n",
    " #age, days, intercept\n",
    "coeffGrid.append(buildRow(overallRegression))\n",
    "\n",
    "\n",
    "\n",
    "demDF = df[df['President'] == 'Barack Obama']\n",
    "repDF = df[df['President'] != 'Barack Obama']\n",
    "trumpDF = df[df['President'] == 'Donald Trump']\n",
    "bushDF = df[df['President'] == 'George W. Bush']\n",
    "demDF.reset_index(drop=True, inplace=True)\n",
    "repDF.reset_index(drop=True, inplace=True)\n",
    "bushDF.reset_index(drop=True, inplace=True)\n",
    "trumpDF.reset_index(drop=True, inplace=True)\n",
    "demReg = trainAndPlot(demDF,False,\"Regression based on days in office and \\n age for democrats\")\n",
    "repReg = trainAndPlot(repDF,False,\"Regression based on days in office and \\n age for republicans\")\n",
    "trumpReg = trainAndPlot(trumpDF,False,\"Regression based on days in office and \\n age for Trump Cabinet\")\n",
    "bushReg = trainAndPlot(bushDF,False,\"Regression based on days in office and \\n age for Bush Cabinet\")\n",
    "coeffGrid.append(buildRow(demReg))\n",
    "coeffGrid.append(buildRow(repReg))\n",
    "coeffGrid.append(buildRow(trumpReg))\n",
    "coeffGrid.append(buildRow(bushReg))\n",
    "\n",
    " #age, days, approval intercept\n",
    "print(\"Using 3 labels, not accounting for party:\")\n",
    "reg,_,_,_,_ = trainModel(df,True)\n",
    "coeffGrid.append(buildRow(reg))\n",
    "print(\"Using 3 labels, Democrats:\")\n",
    "reg,_,_,_,_ = trainModel(demDF,True)\n",
    "coeffGrid.append(buildRow(reg))\n",
    "print(\"Using 3 labels, Republicans:\")\n",
    "reg,_,_,_,_ = trainModel(repDF,True)\n",
    "coeffGrid.append(buildRow(reg))\n",
    "print(\"Using 3 labels, Trump Cabinet:\")\n",
    "reg,_,_,_,_ = trainModel(trumpDF,True)\n",
    "coeffGrid.append(buildRow(reg))\n",
    "print(\"Using 3 labels, Bush Cabinet:\")\n",
    "reg,_,_,_,_ = trainModel(bushDF,True)\n",
    "coeffGrid.append(buildRow(reg))\n",
    "with open ('regressions.csv', 'w', newline='') as csvfile:\n",
    "    writer = csv.writer(csvfile, delimiter = ',')\n",
    "    for row in coeffGrid:\n",
    "        writer.writerow(row)\n"
   ]
  },
  {
   "cell_type": "code",
   "execution_count": null,
   "metadata": {},
   "outputs": [],
   "source": []
  }
 ],
 "metadata": {
  "kernelspec": {
   "display_name": "Python 3",
   "language": "python",
   "name": "python3"
  },
  "language_info": {
   "codemirror_mode": {
    "name": "ipython",
    "version": 3
   },
   "file_extension": ".py",
   "mimetype": "text/x-python",
   "name": "python",
   "nbconvert_exporter": "python",
   "pygments_lexer": "ipython3",
   "version": "3.8.1"
  }
 },
 "nbformat": 4,
 "nbformat_minor": 4
}

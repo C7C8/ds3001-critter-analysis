{
 "cells": [
  {
   "cell_type": "code",
   "execution_count": 33,
   "metadata": {},
   "outputs": [
    {
     "name": "stdout",
     "output_type": "stream",
     "text": [
      "Mean squared error =  9.557146395470897e-05\n"
     ]
    },
    {
     "data": {
      "application/vnd.jupyter.widget-view+json": {
       "model_id": "5fef3eed387f4256aee81a37b05cee43",
       "version_major": 2,
       "version_minor": 0
      },
      "text/plain": [
       "Canvas(toolbar=Toolbar(toolitems=[('Home', 'Reset original view', 'home', 'home'), ('Back', 'Back to previous …"
      ]
     },
     "metadata": {},
     "output_type": "display_data"
    },
    {
     "name": "stdout",
     "output_type": "stream",
     "text": [
      "Mean squared error =  3.516729947489643e-05\n"
     ]
    },
    {
     "data": {
      "application/vnd.jupyter.widget-view+json": {
       "model_id": "2b36eb10c8a34a7596557bd47b68160a",
       "version_major": 2,
       "version_minor": 0
      },
      "text/plain": [
       "Canvas(toolbar=Toolbar(toolitems=[('Home', 'Reset original view', 'home', 'home'), ('Back', 'Back to previous …"
      ]
     },
     "metadata": {},
     "output_type": "display_data"
    },
    {
     "name": "stdout",
     "output_type": "stream",
     "text": [
      "Mean squared error =  3.994305524719425e-05\n"
     ]
    },
    {
     "data": {
      "application/vnd.jupyter.widget-view+json": {
       "model_id": "13072151ae4d40679ee04455d023c84e",
       "version_major": 2,
       "version_minor": 0
      },
      "text/plain": [
       "Canvas(toolbar=Toolbar(toolitems=[('Home', 'Reset original view', 'home', 'home'), ('Back', 'Back to previous …"
      ]
     },
     "metadata": {},
     "output_type": "display_data"
    }
   ],
   "source": [
    "import numpy as np \n",
    "import math\n",
    "import pandas as pd\n",
    "import matplotlib.pyplot as plt\n",
    "import matplotlib.patches as mpatches\n",
    "from sklearn import datasets, linear_model\n",
    "from sklearn.metrics import mean_squared_error\n",
    "from mpl_toolkits.mplot3d import axes3d\n",
    "%matplotlib widget\n",
    "plt.rcParams['figure.figsize'] = [8, 8]\n",
    "\n",
    "\n",
    "fileName = 'cabinet_member_spending.csv'\n",
    "df = pd.read_csv(fileName,header=0)\n",
    "percentAsForeign = []\n",
    "percentApproval = []\n",
    "for index, row in df.iterrows():\n",
    "    percentAsForeign.append(row[7]/(row[6] + row[7]))\n",
    "    if  math.isnan(row[3]):\n",
    "        percentApproval.append(.9)\n",
    "    else :\n",
    "        percentApproval.append(row[3]/100)\n",
    "df['percentAsForeign'] = percentAsForeign\n",
    "df['percentApproval'] = percentApproval\n",
    "\n",
    "overallRegression,trainList,trainAnswers,testLabels,testAnswers = trainModel(df)\n",
    "makePlot(overallRegression,trainList,trainAnswers,testLabels,testAnswers,\"Regression based on days in office and approval rate\")\n",
    "\n",
    "\n",
    "demDF = df[df['President'] == 'Barack Obama']\n",
    "repDF = df[df['President'] != 'Barack Obama']\n",
    "demDF.reset_index(drop=True, inplace=True)\n",
    "repDF.reset_index(drop=True, inplace=True)\n",
    "demReg,trainList,trainAnswers,testLabels,testAnswers = trainModel(demDF)\n",
    "makePlot(demReg,trainList,trainAnswers,testLabels,testAnswers,\n",
    "         \"Regression based on days in office and approval rate for democrats\")\n",
    "repReg,trainList,trainAnswers,testLabels,testAnswers = trainModel(repDF)\n",
    "makePlot(repReg,trainList,trainAnswers,testLabels,testAnswers,\n",
    "         \"Regression based on days in office and approval rate for republicans\")\n",
    "\n",
    "\n",
    "# approvalRateRange = [x/100 for x in range(50,100)]\n",
    "# dateRange = [3500*x/50 for x in range(0,50)]\n",
    "# combinedLabelsToPredict = [[approval,date] for approval,date in zip(approvalRateRange,dateRange)]\n",
    "# plotPrediction = reg.predict(combinedLabelsToPredict)\n",
    "# fig = plt.figure()\n",
    "# ax = fig.add_subplot(111, projection='3d')\n",
    "\n",
    "# approvalRateRange = dateRange  = np.arange(-1,1,.05)\n",
    "# approvalRateRangeMesh, dateRangeMesh = np.meshgrid(approvalRateRange, dateRange)\n",
    "# dateRangeMesh = dateRangeMesh * 3500\n",
    "# ax.plot_wireframe(approvalRateRangeMesh,dateRangeMesh,np.array([plotPrediction,plotPrediction]))\n",
    "# ax.scatter([approvalRate[0] for approvalRate in trainList],[days[0] for days in trainList],[])\n",
    "# plt.show"
   ]
  },
  {
   "cell_type": "code",
   "execution_count": 23,
   "metadata": {},
   "outputs": [],
   "source": [
    "#train list is [percent approval, days]\n",
    "def dfToLabels(df):\n",
    "    trainList = []\n",
    "    answerLabelList = []\n",
    "    for _,row in df.iterrows():\n",
    "        paramsList = []\n",
    "        paramsList.append(row.percentApproval)\n",
    "        paramsList.append(row.Days)\n",
    "        trainList.append(paramsList)\n",
    "        answerLabelList.append(row.percentAsForeign)\n",
    "    return trainList,answerLabelList"
   ]
  },
  {
   "cell_type": "code",
   "execution_count": 32,
   "metadata": {},
   "outputs": [],
   "source": [
    "def makePlot(reg,trainList,trainAnswers,testLabels,testAnswers,title):\n",
    "    dateLinSpace = np.linspace(200,3500,200)\n",
    "    approvalLinSpace = np.linspace(.5,1,200)\n",
    "    x,y = np.meshgrid(approvalLinSpace,dateLinSpace )\n",
    "    z = np.zeros((200,200))\n",
    "    for rowIndex in range(len(x)):\n",
    "        for valIndex in range(len(x[rowIndex])):\n",
    "            z[rowIndex][valIndex] = reg.predict([[x[rowIndex][valIndex],y[rowIndex][valIndex]]])\n",
    "\n",
    "    fig = plt.figure()\n",
    "    ax = fig.gca(projection = '3d')\n",
    "    ax.plot_wireframe(x,y,z)\n",
    "    ax.set_xlabel('Approval rate')\n",
    "    ax.set_ylabel('Days in position')\n",
    "    ax.scatter([approvalRate[0] for approvalRate in testLabels],\n",
    "               [days[1] for days in testLabels],\n",
    "               testAnswers, c = 'yellow')\n",
    "    ax.scatter([approvalRate[0] for approvalRate in trainList],\n",
    "               [days[1] for days in trainList],\n",
    "               trainAnswers, c = 'purple')\n",
    "    yellow_patch = mpatches.Patch(color='yellow', label='Test Data')\n",
    "    purple_patch = mpatches.Patch(color='purple', label='Training data')\n",
    "    blue_patch = mpatches.Patch(color = 'blue', label = 'Predicted')\n",
    "    plt.legend(handles=[yellow_patch,purple_patch,blue_patch])\n",
    "    plt.title(title)\n",
    "    plt.show()"
   ]
  },
  {
   "cell_type": "code",
   "execution_count": 25,
   "metadata": {},
   "outputs": [],
   "source": [
    "def trainModel(df):\n",
    "    trainingDf = df[df.index % 4 != 0]\n",
    "    testDf = df[df.index % 4 == 0]\n",
    "    trainList, trainAnswers = dfToLabels(trainingDf)\n",
    "    testLabels, testAnswers = dfToLabels(testDf)\n",
    "\n",
    "    reg = linear_model.LinearRegression()\n",
    "    reg.fit(trainList,trainAnswers)\n",
    "\n",
    "    prediction = reg.predict(testLabels)\n",
    "    print('Mean squared error = ', mean_squared_error(prediction,testAnswers))\n",
    "    return reg,trainList,trainAnswers,testLabels,testAnswers"
   ]
  },
  {
   "cell_type": "code",
   "execution_count": null,
   "metadata": {},
   "outputs": [],
   "source": []
  }
 ],
 "metadata": {
  "kernelspec": {
   "display_name": "Python 3",
   "language": "python",
   "name": "python3"
  },
  "language_info": {
   "codemirror_mode": {
    "name": "ipython",
    "version": 3
   },
   "file_extension": ".py",
   "mimetype": "text/x-python",
   "name": "python",
   "nbconvert_exporter": "python",
   "pygments_lexer": "ipython3",
   "version": "3.8.1"
  }
 },
 "nbformat": 4,
 "nbformat_minor": 4
}
